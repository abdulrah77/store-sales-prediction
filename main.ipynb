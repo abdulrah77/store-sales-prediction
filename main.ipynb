{
 "cells": [
  {
   "cell_type": "code",
   "execution_count": 8,
   "metadata": {},
   "outputs": [],
   "source": [
    "from store.logger import logging\n",
    "from store.exception import StoreException\n",
    "from store.utils import get_collection_as_dataframe\n",
    "import sys\n",
    "import os\n",
    "from store.entity import config_entity\n",
    "from store.components.data_ingestion import DataIngestion\n",
    "from store.components.data_validation import DataValidation\n",
    "from store.components.data_transformation import DataTransformation\n",
    "from store.components.model_trainer import ModelTrainer\n",
    "from store.components.model_evaluation import ModelEvaluation\n",
    "from store.components.model_pusher import ModelPusher\n"
   ]
  },
  {
   "cell_type": "code",
   "execution_count": 9,
   "metadata": {},
   "outputs": [
    {
     "name": "stdout",
     "output_type": "stream",
     "text": [
      "Error occurred python script name [e:\\FSDS Bootcamp\\ML Project\\store-sales-prediction\\store\\components\\data_ingestion.py] line number [25] error message [Error occurred python script name [e:\\FSDS Bootcamp\\ML Project\\store-sales-prediction\\store\\utils.py] line number [24] error message [localhost:27017: [WinError 10061] No connection could be made because the target machine actively refused it, Timeout: 30s, Topology Description: <TopologyDescription id: 63c6ad79f7d90f9608fc943b, topology_type: Unknown, servers: [<ServerDescription ('localhost', 27017) server_type: Unknown, rtt: None, error=AutoReconnect('localhost:27017: [WinError 10061] No connection could be made because the target machine actively refused it')>]>]]\n"
     ]
    }
   ],
   "source": [
    "from store import utils\n",
    "from store.entity import config_entity\n",
    "from store.entity import artifact_entity\n",
    "from store.exception import StoreException\n",
    "from store.logger import logging\n",
    "import os\n",
    "import sys\n",
    "import pandas as pd\n",
    "import numpy as np\n",
    "from sklearn.model_selection import train_test_split\n",
    "try:\n",
    "    training_pipeline_config = config_entity.TrainingPipelineConfig()\n",
    "    data_ingestion_config = config_entity.DataIngestionConfig(\n",
    "        training_pipeline_config=training_pipeline_config)\n",
    "    # print(data_ingestion_config.to_dict())\n",
    "    data_ingestion = DataIngestion(\n",
    "        data_ingestion_config=data_ingestion_config)\n",
    "    data_ingestion_artifact = data_ingestion.inititate_data_ingestion()\n",
    "except Exception as e:\n",
    "    print(e)\n"
   ]
  },
  {
   "cell_type": "code",
   "execution_count": null,
   "metadata": {},
   "outputs": [],
   "source": [
    "from store.entity import artifact_entity, config_entity\n",
    "from store.exception import StoreException\n",
    "from store.logger import logging\n",
    "from scipy.stats import ks_2samp\n",
    "from typing import Optional\n",
    "import os\n",
    "import sys\n",
    "import pandas as pd\n",
    "from store import utils\n",
    "import numpy as np\n",
    "from store.config import TARGET_COLUMN\n",
    "\n",
    "try:\n",
    "    data_validation_config = config_entity.DataValidationConfig(\n",
    "            training_pipeline_config=training_pipeline_config)\n",
    "    data_validation = DataValidation(\n",
    "        data_validation_config=data_validation_config, data_ingestion_artifact=data_ingestion_artifact)\n",
    "    data_validation_artifact = data_validation.initiate_data_validation()\n",
    "    # start_training_pipeline()\n",
    "    # output_file = start_batch_prediction(input_file_path=file_path)\n",
    "    # print(output_file)\n",
    "except Exception as e:\n",
    "    print(e)\n"
   ]
  }
 ],
 "metadata": {
  "kernelspec": {
   "display_name": "Python 3",
   "language": "python",
   "name": "python3"
  },
  "language_info": {
   "codemirror_mode": {
    "name": "ipython",
    "version": 3
   },
   "file_extension": ".py",
   "mimetype": "text/x-python",
   "name": "python",
   "nbconvert_exporter": "python",
   "pygments_lexer": "ipython3",
   "version": "3.10.4"
  },
  "orig_nbformat": 4,
  "vscode": {
   "interpreter": {
    "hash": "1ce4ab41de5e60bb6ed1e6d98083279fcdd09272dfa38fc11d3c0040da5f242a"
   }
  }
 },
 "nbformat": 4,
 "nbformat_minor": 2
}
